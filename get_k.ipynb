{
 "cells": [
  {
   "cell_type": "code",
   "execution_count": 2,
   "metadata": {},
   "outputs": [],
   "source": [
    "import matplotlib.pyplot as plt\n",
    "import numpy as np\n",
    "import pandas as pd\n",
    "\n",
    "from Mod.Fits import Fits\n",
    "\n",
    "plt.style.use(\"Mod/mystyle.mplstyle\")"
   ]
  },
  {
   "cell_type": "code",
   "execution_count": 3,
   "metadata": {},
   "outputs": [
    {
     "name": "stdout",
     "output_type": "stream",
     "text": [
      "k pretensionata:  3.229 ± 0.005\n"
     ]
    }
   ],
   "source": [
    "with open(\"Data/misure statiche per k g2.csv\", \"r\") as file:\n",
    "    df = pd.read_csv(file, delimiter=\";\", decimal=\",\")\n",
    "\n",
    "\n",
    "means = [df[f\"Position (mm) Run #{i+1}\"].mean() for i in range(3)]\n",
    "# with error of 0.2mm\n",
    "\n",
    "masse = [50.15, 70.16, 89.8][::]  # da excel\n",
    "\n",
    "params, std_dev = Fits.linear(means, masse)\n",
    "\n",
    "k_non_pretensionata = -params[0] * 9.805  # ? che valore usare per g?\n",
    "std_err = std_dev[0] * 9.805  # p for pretensionata\n",
    "\n",
    "print(f\"k pretensionata: {k_non_pretensionata: 5.3f} ±{std_err: 5.3f}\")"
   ]
  },
  {
   "cell_type": "code",
   "execution_count": 4,
   "metadata": {},
   "outputs": [
    {
     "name": "stdout",
     "output_type": "stream",
     "text": [
      "omega_0:  7.642 ±bho 0.000\n"
     ]
    }
   ],
   "source": [
    "massa = (50.15 + 1 / 3 * 15.44) / 1000\n",
    "omega = np.sqrt(k_non_pretensionata / massa)\n",
    "\n",
    "print(f\"omega_0: {omega: 5.3f} ±bho{0: 5.3f}\")"
   ]
  },
  {
   "cell_type": "markdown",
   "metadata": {},
   "source": [
    "Valore di $\\Delta \\omega = 2 \\sqrt{3}\\gamma =0,255926$"
   ]
  },
  {
   "cell_type": "code",
   "execution_count": 6,
   "metadata": {},
   "outputs": [
    {
     "name": "stdout",
     "output_type": "stream",
     "text": [
      "7.64116032276261\n"
     ]
    }
   ],
   "source": [
    "omega_with_damping = np.sqrt(np.square(omega) - np.square(0.07387974))\n",
    "print(omega_with_damping)"
   ]
  },
  {
   "cell_type": "code",
   "execution_count": null,
   "metadata": {},
   "outputs": [
    {
     "name": "stdout",
     "output_type": "stream",
     "text": [
      "1.2161852785924834\n"
     ]
    }
   ],
   "source": [
    "freq = omega / (2 * np.pi)\n",
    "print(freq)"
   ]
  },
  {
   "cell_type": "code",
   "execution_count": 2,
   "metadata": {},
   "outputs": [
    {
     "name": "stdout",
     "output_type": "stream",
     "text": [
      "\n"
     ]
    }
   ],
   "source": [
    "a = input(\"test\")\n",
    "print(a)"
   ]
  }
 ],
 "metadata": {
  "kernelspec": {
   "display_name": "Stima dello smorzamento pt1",
   "language": "python",
   "name": "python3"
  },
  "language_info": {
   "codemirror_mode": {
    "name": "ipython",
    "version": 3
   },
   "file_extension": ".py",
   "mimetype": "text/x-python",
   "name": "python",
   "nbconvert_exporter": "python",
   "pygments_lexer": "ipython3",
   "version": "3.12.2"
  }
 },
 "nbformat": 4,
 "nbformat_minor": 2
}
