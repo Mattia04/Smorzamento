{
 "cells": [
  {
   "cell_type": "markdown",
   "metadata": {},
   "source": [
    "# Stima dello smorzamento e della forzante\n",
    "\n",
    "Per adesso ci occuperemo solo di calcolare lo smorzamento."
   ]
  },
  {
   "cell_type": "code",
   "execution_count": 11,
   "metadata": {},
   "outputs": [],
   "source": [
    "import matplotlib.pyplot as plt\n",
    "import numpy as np\n",
    "import pandas as pd\n",
    "import scipy\n",
    "\n",
    "from Mod.Fits import Fits"
   ]
  },
  {
   "cell_type": "markdown",
   "metadata": {},
   "source": [
    "## Calculate $k$ from static method"
   ]
  },
  {
   "cell_type": "code",
   "execution_count": 12,
   "metadata": {},
   "outputs": [
    {
     "name": "stdout",
     "output_type": "stream",
     "text": [
      "k pretensionata:  24.25 ± 0.14\n"
     ]
    }
   ],
   "source": [
    "with open(\"Data/Misure k statiche pretensionata.csv\", \"r\") as file:\n",
    "    df = pd.read_csv(file, delimiter=\";\", decimal=\",\")\n",
    "\n",
    "\n",
    "means = [df[f\"Position (mm) Run #{i+1}\"].mean() for i in range(3)]\n",
    "# with error of 0.2mm\n",
    "\n",
    "masse = [127.52, 147.2, 167.09][::-1]  # da excel\n",
    "\n",
    "params, std_dev = Fits.linear(means, masse)\n",
    "\n",
    "k_pretensionata = -params[0] * 9.805  # ? che valore usare per g?\n",
    "std_err_p = std_dev[0] * 9.805  # p for pretensionata\n",
    "\n",
    "print(f\"k pretensionata: {k_pretensionata: 5.2f} ±{std_err_p: 5.2f}\")"
   ]
  },
  {
   "cell_type": "markdown",
   "metadata": {},
   "source": [
    "### Repeat for non pretensionata"
   ]
  },
  {
   "cell_type": "code",
   "execution_count": 13,
   "metadata": {},
   "outputs": [
    {
     "name": "stdout",
     "output_type": "stream",
     "text": [
      "k pretensionata:  3.226 ± 0.021\n"
     ]
    }
   ],
   "source": [
    "with open(\"Data/Misure k statiche non_pretensionata.csv\", \"r\") as file:\n",
    "    df = pd.read_csv(file, delimiter=\";\", decimal=\",\")\n",
    "\n",
    "means = [df[f\"Position (mm) Run #{i+1}\"].mean() for i in range(3)]\n",
    "# with error of 0.2mm\n",
    "\n",
    "masse = [48.4, 67.95, 87.96]  # da excel\n",
    "\n",
    "params, std_dev = Fits.linear(means, masse)\n",
    "\n",
    "k_non_pretensionata = -params[0] * 9.805  # ? che valore usare per g?\n",
    "std_err_np = std_dev[0] * 9.805  # np for non pretensionata\n",
    "\n",
    "print(f\"k pretensionata: {k_non_pretensionata: 5.3f} ±{std_err_np: 5.3f}\")"
   ]
  }
 ],
 "metadata": {
  "kernelspec": {
   "display_name": "Stima dello smorzamento pt1",
   "language": "python",
   "name": "python3"
  },
  "language_info": {
   "codemirror_mode": {
    "name": "ipython",
    "version": 3
   },
   "file_extension": ".py",
   "mimetype": "text/x-python",
   "name": "python",
   "nbconvert_exporter": "python",
   "pygments_lexer": "ipython3",
   "version": "3.12.2"
  }
 },
 "nbformat": 4,
 "nbformat_minor": 2
}
