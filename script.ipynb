{
 "cells": [
  {
   "cell_type": "markdown",
   "metadata": {},
   "source": [
    "# Stima dello smorzamento e della forzante\n",
    "\n",
    "Per adesso ci occuperemo solo di calcolare lo smorzamento."
   ]
  },
  {
   "cell_type": "code",
   "execution_count": 2,
   "metadata": {},
   "outputs": [],
   "source": [
    "import matplotlib.pyplot as plt\n",
    "import numpy as np\n",
    "import pandas as pd\n",
    "import scipy"
   ]
  },
  {
   "cell_type": "markdown",
   "metadata": {},
   "source": [
    "## Import data"
   ]
  },
  {
   "cell_type": "code",
   "execution_count": null,
   "metadata": {},
   "outputs": [],
   "source": [
    "with open(\"Data/file.xlsx\", \"r\") as file:\n",
    "    data = pd.read_excel(file, sheet_name=\"\")\n",
    "\n",
    "with open(\"Data/file.csv\", \"r\") as file:\n",
    "    data = pd.read_csv(file)\n",
    "\n",
    "data = pd.DataFrame(data).dtypes()"
   ]
  },
  {
   "cell_type": "code",
   "execution_count": null,
   "metadata": {},
   "outputs": [],
   "source": [
    "peaks = scipy.signal.find_peaks(\n",
    "    data, width=number\n",
    ")  # number is equal to 0.4 * stima_periodo"
   ]
  },
  {
   "cell_type": "code",
   "execution_count": 5,
   "metadata": {},
   "outputs": [],
   "source": [
    "plt.style.use(\"Mod/mystyle.mplstyle\")"
   ]
  }
 ],
 "metadata": {
  "kernelspec": {
   "display_name": "Stima dello smorzamento pt1",
   "language": "python",
   "name": "python3"
  },
  "language_info": {
   "codemirror_mode": {
    "name": "ipython",
    "version": 3
   },
   "file_extension": ".py",
   "mimetype": "text/x-python",
   "name": "python",
   "nbconvert_exporter": "python",
   "pygments_lexer": "ipython3",
   "version": "3.12.2"
  }
 },
 "nbformat": 4,
 "nbformat_minor": 2
}
