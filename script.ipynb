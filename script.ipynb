{
 "cells": [
  {
   "cell_type": "markdown",
   "metadata": {},
   "source": [
    "# Stima dello smorzamento e della forzante\n",
    "\n",
    "Per adesso ci occuperemo solo di calcolare lo smorzamento."
   ]
  },
  {
   "cell_type": "code",
   "execution_count": 1,
   "metadata": {},
   "outputs": [],
   "source": [
    "import matplotlib.pyplot as plt\n",
    "import numpy as np\n",
    "import pandas as pd\n",
    "import scipy"
   ]
  },
  {
   "cell_type": "markdown",
   "metadata": {},
   "source": [
    "## Import data"
   ]
  },
  {
   "cell_type": "code",
   "execution_count": 12,
   "metadata": {},
   "outputs": [
    {
     "name": "stdout",
     "output_type": "stream",
     "text": [
      "<class 'pandas.core.frame.DataFrame'>\n",
      "RangeIndex: 1854 entries, 0 to 1853\n",
      "Data columns (total 3 columns):\n",
      " #   Column                Non-Null Count  Dtype  \n",
      "---  ------                --------------  -----  \n",
      " 0   Position (mm) Run #1  1048 non-null   float64\n",
      " 1   Position (mm) Run #2  1229 non-null   float64\n",
      " 2   Position (mm) Run #3  1854 non-null   float64\n",
      "dtypes: float64(3)\n",
      "memory usage: 43.6 KB\n"
     ]
    }
   ],
   "source": [
    "with open(\"Data/Misure k statiche pretensionata.csv\", \"r\") as file:\n",
    "    df = pd.read_csv(file, delimiter=\";\", decimal=\",\")\n",
    "\n",
    "df.info()"
   ]
  },
  {
   "cell_type": "markdown",
   "metadata": {},
   "source": [
    "## Get $k$"
   ]
  },
  {
   "cell_type": "code",
   "execution_count": 13,
   "metadata": {},
   "outputs": [
    {
     "name": "stdout",
     "output_type": "stream",
     "text": [
      "[0.11151822519083969, 8.074226281529702, 16.110806040992447]\n"
     ]
    }
   ],
   "source": [
    "means = [df[f\"Position (mm) Run #{i+1}\"].mean() for i in range(3)]\n",
    "\n",
    "print(means)"
   ]
  },
  {
   "cell_type": "code",
   "execution_count": 14,
   "metadata": {},
   "outputs": [
    {
     "name": "stdout",
     "output_type": "stream",
     "text": [
      "<class 'pandas.core.frame.DataFrame'>\n",
      "RangeIndex: 1710 entries, 0 to 1709\n",
      "Data columns (total 3 columns):\n",
      " #   Column                Non-Null Count  Dtype  \n",
      "---  ------                --------------  -----  \n",
      " 0   Position (mm) Run #1  1275 non-null   float64\n",
      " 1   Position (mm) Run #2  1710 non-null   float64\n",
      " 2   Position (mm) Run #3  1223 non-null   float64\n",
      "dtypes: float64(3)\n",
      "memory usage: 40.2 KB\n"
     ]
    }
   ],
   "source": [
    "with open(\"Data/Misure k statiche non_pretensionata.csv\", \"r\") as file:\n",
    "    df = pd.read_csv(file, delimiter=\";\", decimal=\",\")\n",
    "\n",
    "df.info()"
   ]
  },
  {
   "cell_type": "code",
   "execution_count": 15,
   "metadata": {},
   "outputs": [
    {
     "name": "stdout",
     "output_type": "stream",
     "text": [
      "[0.07792439215686274, -58.67401649122807, -120.16216941946037]\n"
     ]
    }
   ],
   "source": [
    "means = [df[f\"Position (mm) Run #{i+1}\"].mean() for i in range(3)]\n",
    "\n",
    "print(means)"
   ]
  }
 ],
 "metadata": {
  "kernelspec": {
   "display_name": "Stima dello smorzamento pt1",
   "language": "python",
   "name": "python3"
  },
  "language_info": {
   "codemirror_mode": {
    "name": "ipython",
    "version": 3
   },
   "file_extension": ".py",
   "mimetype": "text/x-python",
   "name": "python",
   "nbconvert_exporter": "python",
   "pygments_lexer": "ipython3",
   "version": "3.12.2"
  }
 },
 "nbformat": 4,
 "nbformat_minor": 2
}
